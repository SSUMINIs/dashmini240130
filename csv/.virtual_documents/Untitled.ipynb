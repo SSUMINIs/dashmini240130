import pandas as pd

df = pd.read_csv("C:/Users/USER/Desktop/csv/order_prior_5.csv")
df1 = pd.DataFrame(df.head(100))
df1


df1.to_csv('order_prior_100.csv', index=False)


df2 = df1.groupby(['reordered','produuct_id'])
df2






